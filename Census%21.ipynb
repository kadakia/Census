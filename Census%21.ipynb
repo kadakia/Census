{
 "cells": [
  {
   "cell_type": "markdown",
   "metadata": {},
   "source": [
    "An analysis of US census data using SQLAlchemy"
   ]
  },
  {
   "cell_type": "code",
   "execution_count": 31,
   "metadata": {
    "collapsed": true
   },
   "outputs": [],
   "source": [
    "from sqlalchemy import create_engine, MetaData\n",
    "\n",
    "# Define an engine to connect to census.sqlite\n",
    "engine = create_engine('sqlite:///census.sqlite')\n",
    "\n",
    "# Initialize MetaData\n",
    "metadata = MetaData()"
   ]
  },
  {
   "cell_type": "code",
   "execution_count": 32,
   "metadata": {
    "collapsed": true
   },
   "outputs": [],
   "source": [
    "from sqlalchemy import Table, Column, String, Integer\n",
    "\n",
    "# Build a census table\n",
    "census = Table('census', metadata,\n",
    "               Column('state', String(50)),\n",
    "               Column('sex', String(1)),\n",
    "               Column('age', Integer()),\n",
    "               Column('pop2000', Integer()),\n",
    "               Column('pop2008', Integer()))\n",
    "\n",
    "# Create the table in the database\n",
    "metadata.create_all(engine)"
   ]
  },
  {
   "cell_type": "code",
   "execution_count": 33,
   "metadata": {},
   "outputs": [],
   "source": [
    "import csv\n",
    "\n",
    "values_list = []\n",
    "\n",
    "# context manager\n",
    "with open('census.csv.txt', 'r') as file:\n",
    "    csv_reader = csv.reader(file, delimiter=',')\n",
    "\n",
    "    # Iterate over the rows in census.csv\n",
    "    for row in csv_reader:\n",
    "        # Create a dictionary with the values\n",
    "        data = {'state': row[0], 'sex': row[1], 'age':row[2], 'pop2000': row[3], 'pop2008': row[4]}\n",
    "        # Append the dictionary to the values list\n",
    "        values_list.append(data)"
   ]
  },
  {
   "cell_type": "code",
   "execution_count": 34,
   "metadata": {},
   "outputs": [
    {
     "name": "stdout",
     "output_type": "stream",
     "text": [
      "8772\n"
     ]
    }
   ],
   "source": [
    "from sqlalchemy import insert\n",
    "\n",
    "# Build insert statement\n",
    "stmt = insert(census)\n",
    "\n",
    "# Use values_list to insert data\n",
    "connection = engine.connect()\n",
    "results = connection.execute(stmt, values_list)\n",
    "\n",
    "# Print rowcount: the number of rows inserted\n",
    "print(results.rowcount)"
   ]
  },
  {
   "cell_type": "markdown",
   "metadata": {},
   "source": [
    "# First query"
   ]
  },
  {
   "cell_type": "code",
   "execution_count": 35,
   "metadata": {},
   "outputs": [
    {
     "name": "stdout",
     "output_type": "stream",
     "text": [
      "F 38\n",
      "M 35\n"
     ]
    }
   ],
   "source": [
    "from sqlalchemy import select, func\n",
    "\n",
    "# Calculate weighted average age\n",
    "stmt = select([census.columns.sex,\n",
    "               (func.sum(census.columns.pop2008 * census.columns.age) /\n",
    "                func.sum(census.columns.pop2008)).label('average_age')\n",
    "               ])\n",
    "\n",
    "# Group by sex\n",
    "stmt = stmt.group_by(census.columns.sex)\n",
    "\n",
    "# Execute the query and store the results\n",
    "results = connection.execute(stmt).fetchall()\n",
    "\n",
    "# Print the average age by sex\n",
    "for result in results:\n",
    "    print(result.sex, result.average_age)"
   ]
  },
  {
   "cell_type": "markdown",
   "metadata": {},
   "source": [
    "So in 2008, females were older than males, on average.  And by a margin of 3 years!  Was this different back in 2000?"
   ]
  },
  {
   "cell_type": "code",
   "execution_count": 36,
   "metadata": {},
   "outputs": [
    {
     "name": "stdout",
     "output_type": "stream",
     "text": [
      "F 37\n",
      "M 34\n"
     ]
    }
   ],
   "source": [
    "# Calculate weighted average age\n",
    "stmt = select([census.columns.sex,\n",
    "               (func.sum(census.columns.pop2000 * census.columns.age) /\n",
    "                func.sum(census.columns.pop2000)).label('average_age')\n",
    "               ])\n",
    "\n",
    "# Group by sex\n",
    "stmt = stmt.group_by(census.columns.sex)\n",
    "\n",
    "# Execute the query and store the results\n",
    "results = connection.execute(stmt).fetchall()\n",
    "\n",
    "# Print the average age by sex\n",
    "for result in results:\n",
    "    print(result.sex, result.average_age)"
   ]
  },
  {
   "cell_type": "markdown",
   "metadata": {},
   "source": [
    "# Second query"
   ]
  },
  {
   "cell_type": "code",
   "execution_count": 37,
   "metadata": {},
   "outputs": [
    {
     "name": "stdout",
     "output_type": "stream",
     "text": [
      "Alabama 51.8324077702\n",
      "Alaska 49.3014978935\n",
      "Arizona 50.2236130306\n",
      "Arkansas 51.2699284622\n",
      "California 50.3523321490\n",
      "Colorado 49.8476706030\n",
      "Connecticut 51.6681650713\n",
      "Delaware 51.6110973356\n",
      "District of Columbia 53.1296261417\n",
      "Florida 51.3648800117\n",
      "Georgia 51.1140835034\n",
      "Hawaii 51.1180118369\n",
      "Idaho 49.9897262390\n",
      "Illinois 51.1122423480\n",
      "Indiana 50.9548031330\n",
      "Iowa 50.9503983425\n",
      "Kansas 50.8218641078\n",
      "Kentucky 51.3268703693\n",
      "Louisiana 51.7535159655\n",
      "Maine 51.5057081342\n",
      "Maryland 51.9357554997\n",
      "Massachusetts 51.8430235713\n",
      "Michigan 50.9724651832\n",
      "Minnesota 50.4933294430\n",
      "Mississippi 51.9222948179\n",
      "Missouri 51.4688860264\n",
      "Montana 50.3220269073\n",
      "Nebraska 50.8584549336\n",
      "Nevada 49.3673636138\n",
      "New Hampshire 50.8580198450\n",
      "New Jersey 51.5171395613\n",
      "New Mexico 51.0471720798\n",
      "New York 51.8345386515\n",
      "North Carolina 51.4822623221\n",
      "North Dakota 50.5006936323\n",
      "Ohio 51.4655035002\n",
      "Oklahoma 51.1136245708\n",
      "Oregon 50.4294670362\n",
      "Pennsylvania 51.7404347305\n",
      "Rhode Island 52.0734339190\n",
      "South Carolina 51.7307212977\n",
      "South Dakota 50.5258358137\n",
      "Tennessee 51.4306896994\n",
      "Texas 50.5157216642\n",
      "Utah 49.9729527511\n",
      "Vermont 51.0185732099\n",
      "Virginia 51.6572524472\n",
      "Washington 50.5185650872\n",
      "West Virginia 51.4004231809\n",
      "Wisconsin 50.6148645265\n",
      "Wyoming 49.9459554265\n"
     ]
    },
    {
     "name": "stderr",
     "output_type": "stream",
     "text": [
      "/Users/kadakia/anaconda/lib/python3.6/site-packages/sqlalchemy/sql/sqltypes.py:596: SAWarning: Dialect sqlite+pysqlite does *not* support Decimal objects natively, and SQLAlchemy must convert from floating point - rounding errors and other issues may occur. Please consider storing Decimal numbers as strings or integers on this platform for lossless storage.\n",
      "  'storage.' % (dialect.name, dialect.driver))\n"
     ]
    }
   ],
   "source": [
    "# import case, cast and Float from sqlalchemy\n",
    "from sqlalchemy import case, cast, Float\n",
    "\n",
    "# Build a query to calculate the percentage of females in 2000\n",
    "# cast as float\n",
    "stmt = select([census.columns.state,\n",
    "    (func.sum(\n",
    "        case([\n",
    "            (census.columns.sex == 'F', census.columns.pop2000)\n",
    "        ], else_=0)) /\n",
    "     cast(func.sum(census.columns.pop2000), Float) * 100).label('percent_female')\n",
    "])\n",
    "\n",
    "# Group By state\n",
    "stmt = stmt.group_by(census.columns.state)\n",
    "\n",
    "# Execute the query and store the results\n",
    "results = connection.execute(stmt).fetchall()\n",
    "\n",
    "# Print the percentage\n",
    "for result in results:\n",
    "    print(result.state, result.percent_female)"
   ]
  },
  {
   "cell_type": "code",
   "execution_count": 38,
   "metadata": {},
   "outputs": [
    {
     "name": "stdout",
     "output_type": "stream",
     "text": [
      "         percent_female\n",
      "state                  \n",
      "Alaska    49.3014978935\n",
      "Colorado  49.8476706030\n",
      "Idaho     49.9897262390\n",
      "Nevada    49.3673636138\n",
      "Utah      49.9729527511\n",
      "Wyoming   49.9459554265\n",
      "                     percent_female\n",
      "state                              \n",
      "District of Columbia  53.1296261417\n",
      "Rhode Island          52.0734339190\n",
      "Maryland              51.9357554997\n",
      "Mississippi           51.9222948179\n",
      "Massachusetts         51.8430235713\n"
     ]
    }
   ],
   "source": [
    "import pandas as pd\n",
    "\n",
    "df = pd.DataFrame(results)\n",
    "df.columns = ['state','percent_female']\n",
    "df = df.set_index('state')\n",
    "\n",
    "print(df[df['percent_female'] < 50])\n",
    "\n",
    "df = df.sort_values('percent_female', ascending = False)\n",
    "print(df.head())"
   ]
  },
  {
   "cell_type": "markdown",
   "metadata": {},
   "source": [
    "Using pandas, we find that in 2000 there were 6 states with females in the minority.  Conversely, DC had the largest proportion of females.  Did this change at all in 2008?"
   ]
  },
  {
   "cell_type": "code",
   "execution_count": 39,
   "metadata": {},
   "outputs": [
    {
     "name": "stdout",
     "output_type": "stream",
     "text": [
      "         percent_female\n",
      "state                  \n",
      "Alaska    49.0188790543\n",
      "Colorado  49.7519513237\n",
      "Idaho     49.8036755208\n",
      "Nevada    49.3842916941\n",
      "Utah      49.5950264362\n",
      "Wyoming   49.4834652213\n",
      "                     percent_female\n",
      "state                              \n",
      "District of Columbia  52.8751422119\n",
      "Maryland              51.7567263258\n",
      "Rhode Island          51.7432288457\n",
      "Mississippi           51.7401547724\n",
      "Delaware              51.6654567711\n"
     ]
    },
    {
     "name": "stderr",
     "output_type": "stream",
     "text": [
      "/Users/kadakia/anaconda/lib/python3.6/site-packages/sqlalchemy/sql/sqltypes.py:596: SAWarning: Dialect sqlite+pysqlite does *not* support Decimal objects natively, and SQLAlchemy must convert from floating point - rounding errors and other issues may occur. Please consider storing Decimal numbers as strings or integers on this platform for lossless storage.\n",
      "  'storage.' % (dialect.name, dialect.driver))\n"
     ]
    }
   ],
   "source": [
    "# Build a query to calculate the percentage of females in 2008\n",
    "# cast as float\n",
    "stmt = select([census.columns.state,\n",
    "    (func.sum(\n",
    "        case([\n",
    "            (census.columns.sex == 'F', census.columns.pop2008)\n",
    "        ], else_=0)) /\n",
    "     cast(func.sum(census.columns.pop2008), Float) * 100).label('percent_female')\n",
    "])\n",
    "\n",
    "# Group By state\n",
    "stmt = stmt.group_by(census.columns.state)\n",
    "\n",
    "# Execute the query and store the results\n",
    "results = connection.execute(stmt).fetchall()\n",
    "\n",
    "df_2008 = pd.DataFrame(results)\n",
    "df_2008.columns = ['state','percent_female']\n",
    "df_2008 = df_2008.set_index('state')\n",
    "\n",
    "print(df_2008[df_2008['percent_female'] < 50])\n",
    "\n",
    "df_2008 = df_2008.sort_values('percent_female', ascending = False)\n",
    "print(df_2008.head())"
   ]
  },
  {
   "cell_type": "markdown",
   "metadata": {},
   "source": [
    "The only state present in 2000 results but not in 2008 results is Massachusetts, replaced by Delaware."
   ]
  },
  {
   "cell_type": "markdown",
   "metadata": {},
   "source": [
    "# Third query"
   ]
  },
  {
   "cell_type": "code",
   "execution_count": 40,
   "metadata": {},
   "outputs": [
    {
     "name": "stdout",
     "output_type": "stream",
     "text": [
      "California: 105705\n",
      "Florida: 100984\n",
      "Texas: 51901\n",
      "New York: 47098\n",
      "Pennsylvania: 42387\n",
      "Arizona: 29509\n",
      "Ohio: 29392\n",
      "Illinois: 26221\n",
      "Michigan: 25126\n",
      "North Carolina: 24108\n",
      "New Jersey: 22312\n",
      "Georgia: 20231\n",
      "Virginia: 19387\n",
      "Washington: 16930\n",
      "Indiana: 15860\n",
      "South Carolina: 14837\n",
      "Maryland: 14360\n",
      "Massachusetts: 14228\n",
      "Tennessee: 13625\n",
      "Missouri: 12259\n",
      "Minnesota: 11743\n",
      "Wisconsin: 11639\n",
      "Colorado: 10732\n",
      "Oregon: 9987\n",
      "Hawaii: 9229\n",
      "Alabama: 9215\n",
      "Kentucky: 8914\n",
      "Connecticut: 8127\n",
      "Iowa: 7153\n",
      "New Mexico: 6875\n",
      "Louisiana: 6753\n",
      "Arkansas: 6140\n",
      "Oklahoma: 6047\n",
      "Utah: 5943\n",
      "Kansas: 5527\n",
      "Mississippi: 5181\n",
      "Idaho: 4050\n",
      "Nebraska: 3838\n",
      "New Hampshire: 3551\n",
      "West Virginia: 3346\n",
      "Delaware: 3073\n",
      "Rhode Island: 2636\n",
      "Montana: 2633\n",
      "Maine: 2559\n",
      "South Dakota: 2486\n",
      "North Dakota: 1775\n",
      "District of Columbia: 1371\n",
      "Alaska: 1334\n",
      "Vermont: 1194\n",
      "Wyoming: 1126\n",
      "Nevada: 531\n"
     ]
    }
   ],
   "source": [
    "from sqlalchemy import desc\n",
    "\n",
    "# Build query to return state name and population difference from 2008 to 2000\n",
    "stmt = select([census.columns.state,\n",
    "     (census.columns.pop2008 - census.columns.pop2000).label('pop_change')\n",
    "])\n",
    "\n",
    "# Group by State\n",
    "stmt = stmt.group_by(census.columns.state)\n",
    "\n",
    "# Order by Population Change in descending order\n",
    "stmt = stmt.order_by(desc('pop_change'))\n",
    "\n",
    "# Limit to top 10\n",
    "# stmt = stmt.limit(10)\n",
    "\n",
    "# Use connection to execute the statement and fetch\n",
    "results = connection.execute(stmt).fetchall()\n",
    "\n",
    "# Print the state and population change for each record\n",
    "for result in results:\n",
    "    print(result.state + ': ' + str(result.pop_change))"
   ]
  },
  {
   "cell_type": "markdown",
   "metadata": {},
   "source": [
    "For no state did the population decrease between 2000 and 2008!"
   ]
  }
 ],
 "metadata": {
  "kernelspec": {
   "display_name": "Python 3",
   "language": "python",
   "name": "python3"
  },
  "language_info": {
   "codemirror_mode": {
    "name": "ipython",
    "version": 3
   },
   "file_extension": ".py",
   "mimetype": "text/x-python",
   "name": "python",
   "nbconvert_exporter": "python",
   "pygments_lexer": "ipython3",
   "version": "3.6.1"
  }
 },
 "nbformat": 4,
 "nbformat_minor": 2
}
